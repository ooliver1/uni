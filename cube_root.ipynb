{
 "cells": [
  {
   "cell_type": "code",
   "execution_count": 14,
   "metadata": {},
   "outputs": [],
   "source": [
    "accuracy = 0.001\n",
    "x = 20\n",
    "guess = x"
   ]
  },
  {
   "cell_type": "code",
   "execution_count": 15,
   "metadata": {},
   "outputs": [
    {
     "name": "stdout",
     "output_type": "stream",
     "text": [
      "10.025\n",
      "5.112001868769473\n",
      "2.938665273865016\n",
      "2.6273091694579467\n",
      "2.762351838757036\n",
      "2.6916909698495592\n",
      "2.7260695805251434\n",
      "2.7086662336940712\n",
      "2.7173116391063528\n",
      "2.7129752270355874\n",
      "2.7151399618769703\n",
      "2.7140567321911897\n",
      "2.7145981307794123\n",
      "2.714327377507887\n",
      "2.7144627406385275\n"
     ]
    }
   ],
   "source": [
    "while abs(guess**3 - x) > accuracy:\n",
    "    guess = (guess + x/(guess**2)) / 2\n",
    "    print(guess)\n"
   ]
  },
  {
   "cell_type": "code",
   "execution_count": 16,
   "metadata": {},
   "outputs": [
    {
     "name": "stdout",
     "output_type": "stream",
     "text": [
      "The cube root of 20 is 2.7144627406385275\n"
     ]
    }
   ],
   "source": [
    "print(f\"The cube root of {x} is {guess}\")"
   ]
  }
 ],
 "metadata": {
  "kernelspec": {
   "display_name": "Python 3",
   "language": "python",
   "name": "python3"
  },
  "language_info": {
   "codemirror_mode": {
    "name": "ipython",
    "version": 3
   },
   "file_extension": ".py",
   "mimetype": "text/x-python",
   "name": "python",
   "nbconvert_exporter": "python",
   "pygments_lexer": "ipython3",
   "version": "3.12.3"
  }
 },
 "nbformat": 4,
 "nbformat_minor": 2
}
