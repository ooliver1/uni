{
 "cells": [
  {
   "cell_type": "code",
   "execution_count": 6,
   "metadata": {},
   "outputs": [],
   "source": [
    "\"\"\"\n",
    "Write a Python program that prompts the user for their height (in centimetres) and\n",
    "mass (in kilograms), then calculates and prints their approximate waist circumfer-\n",
    "ence in inches. For this calculation, we will use a simplified model that assumes\n",
    "the human body is roughly cylindrical.\n",
    "Hint: Before implementing this program, first devise a strategy: what sequence\n",
    "of steps will lead you to the result starting from the given measurements? You\n",
    "may find the following facts useful. The volume of a right cylinder is 𝑉 = 𝜋𝑟2ℎ.\n",
    "The circumference of a circle is 𝐶 = 2𝜋𝑟. Density 𝜌 = 𝑚/𝑉. Humans just barely\n",
    "float in water. 1 inch ≈ 25.4 mm. Use the math.pi constant for 𝜋 (remember to\n",
    "import the math module). Be careful when working with different units. I recom-\n",
    "mend converting all measurements to a consistent set of units before performing\n",
    "calculations\n",
    "\n",
    "volume = pi r squared h\n",
    "circumference = 2 pi r\n",
    "density = mass/volume\n",
    "volume = mass/density\n",
    "pi r squared h = mass/density\n",
    "r squared h = mass/(density pi)\n",
    "r squared = mass/(density pi h)\n",
    "r = sqrt(mass/(density pi h))\n",
    "circumference cm = 2 pi sqrt(mass/(density pi h))\n",
    "circumference in = 2 pi sqrt(mass/(density pi h)) / 2.54\n",
    "\n",
    "density of water = 1000 kg/m^3\n",
    "density of water in kg/cm^3 = 0.001 kg/cm^3\n",
    "\"\"\"\n",
    "import math\n",
    "DENSITY: float = 0.001\n",
    "PI = math.pi\n"
   ]
  },
  {
   "cell_type": "code",
   "execution_count": 7,
   "metadata": {},
   "outputs": [],
   "source": [
    "def circumference(*, mass: float, height: float) -> float:\n",
    "    radius = (mass / (DENSITY * PI * height)) ** 0.5\n",
    "    cm = 2 * PI * radius\n",
    "    return cm / 2.54"
   ]
  },
  {
   "cell_type": "code",
   "execution_count": 8,
   "metadata": {},
   "outputs": [
    {
     "name": "stdout",
     "output_type": "stream",
     "text": [
      "height=188.0 mass=65.0\n",
      "The circumference of your cylinder representation is 25.95 inches\n"
     ]
    }
   ],
   "source": [
    "height = float(input(\"Enter your height in cm: \"))\n",
    "mass = float(input(\"Enter your mass in kg: \"))\n",
    "print(f\"{height=} {mass=}\")\n",
    "print(f\"The circumference of your cylinder representation is {circumference(mass=mass, height=height):.2f} inches\")"
   ]
  }
 ],
 "metadata": {
  "kernelspec": {
   "display_name": "Python 3",
   "language": "python",
   "name": "python3"
  },
  "language_info": {
   "codemirror_mode": {
    "name": "ipython",
    "version": 3
   },
   "file_extension": ".py",
   "mimetype": "text/x-python",
   "name": "python",
   "nbconvert_exporter": "python",
   "pygments_lexer": "ipython3",
   "version": "3.12.3"
  }
 },
 "nbformat": 4,
 "nbformat_minor": 2
}
