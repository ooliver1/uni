{
 "cells": [
  {
   "cell_type": "code",
   "execution_count": 4,
   "metadata": {},
   "outputs": [],
   "source": [
    "def next(n: int) -> int:\n",
    "    if n % 2 == 0:\n",
    "        return n // 2\n",
    "    else:\n",
    "        return 3 * n + 1\n",
    "\n",
    "# odd: 2n+1\n",
    "# -> 3(2n+1)+1 = 6n+4\n",
    "# original n must be odd\n",
    "# 2(2n+1)+1\n",
    "# -> 3(2(2n+1)+1)+1 = 12n+7\n",
    "\n",
    "# take it too far\n",
    "# original n must be odd\n",
    "# 2(2(2n+1)+1)+1\n",
    "# -> 3(2(2(2n+1)+1)+1)+1 = 24n+15\n",
    "\n",
    "# what if odd is 2n-1\n",
    "# 3(2n-1)+1 = 6n+2\n",
    "# -> 3(2(2n-1)-1)+1 = 12n-8\n",
    "# 3(2(2(2n-1)+1)+1)+1 = 24n-7\n",
    "# 2(2(2(2n-1)-1)-1)-1 = 48n-15"
   ]
  },
  {
   "cell_type": "code",
   "execution_count": 9,
   "metadata": {},
   "outputs": [
    {
     "name": "stdout",
     "output_type": "stream",
     "text": [
      "19 -> 58 -> 29 -> 88 -> 44 -> 22 -> 11 -> 34 -> 17 -> 52 -> 26 -> 13 -> 40 -> 20 -> 10 -> 5 -> 16 -> 8 -> 4 -> 2 -> 1\n"
     ]
    }
   ],
   "source": [
    "n = int(input())\n",
    "numbers = [n]\n",
    "while True:\n",
    "    n = next(n)\n",
    "    numbers.append(n)\n",
    "    if n <= 1:\n",
    "        break\n",
    "\n",
    "print(\" -> \".join(map(str, numbers)))\n"
   ]
  },
  {
   "cell_type": "code",
   "execution_count": 18,
   "metadata": {},
   "outputs": [],
   "source": [
    "for i in range(1, 9999999):\n",
    "    n = i\n",
    "    while True:\n",
    "        n = next(n)\n",
    "        if n <= 1:\n",
    "            break\n",
    "\n",
    "    if n != 1:\n",
    "        print(\"!!!\")"
   ]
  }
 ],
 "metadata": {
  "kernelspec": {
   "display_name": "Python 3",
   "language": "python",
   "name": "python3"
  },
  "language_info": {
   "codemirror_mode": {
    "name": "ipython",
    "version": 3
   },
   "file_extension": ".py",
   "mimetype": "text/x-python",
   "name": "python",
   "nbconvert_exporter": "python",
   "pygments_lexer": "ipython3",
   "version": "3.12.3"
  }
 },
 "nbformat": 4,
 "nbformat_minor": 2
}
