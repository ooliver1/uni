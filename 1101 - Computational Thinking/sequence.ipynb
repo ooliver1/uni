{
 "cells": [
  {
   "cell_type": "code",
   "execution_count": 58,
   "metadata": {},
   "outputs": [],
   "source": [
    "def next(n: int) -> int:\n",
    "    if n % 2 == 0:\n",
    "        return n // 2\n",
    "    else:\n",
    "        return 3 * n + 1\n",
    "\n",
    "# odd: 2n+1\n",
    "# -> 3(2n+1)+1 = 6n+4\n",
    "# original n must be odd\n",
    "# 2(2n+1)+1\n",
    "# -> 3(2(2n+1)+1)+1 = 12n+7\n",
    "\n",
    "# take it too far\n",
    "# original n must be odd\n",
    "# 2(2(2n+1)+1)+1\n",
    "# -> 3(2(2(2n+1)+1)+1)+1 = 24n+15\n",
    "\n",
    "# what if odd is 2n-1\n",
    "# 3(2n-1)+1 = 6n+2\n",
    "# -> 3(2(2n-1)-1)+1 = 12n-8\n",
    "# 3(2(2(2n-1)+1)+1)+1 = 24n-7\n",
    "# 2(2(2(2n-1)-1)-1)-1 = 48n-15\n",
    "# 2(2(2(2(2n-1)-1)-1)-1)-1 = 96n-31\n",
    "# 2(2(2(2(2(2n-1)+1)+1)+1)+1)+1 = 192n-63"
   ]
  },
  {
   "cell_type": "code",
   "execution_count": 59,
   "metadata": {},
   "outputs": [],
   "source": [
    "n = int(input())\n",
    "numbers = [n]\n",
    "while True:\n",
    "    n = next(n)\n",
    "    numbers.append(n)\n",
    "    if n <= 1:\n",
    "        break\n"
   ]
  },
  {
   "cell_type": "code",
   "execution_count": 60,
   "metadata": {},
   "outputs": [
    {
     "name": "stdout",
     "output_type": "stream",
     "text": [
      "129 -> 388 -> 194 -> 97 -> 292 -> 146 -> 73 -> 220 -> 110 -> 55 -> 166 -> 83 -> 250 -> 125 -> 376 -> 188 -> 94 -> 47 -> 142 -> 71 -> 214 -> 107 -> 322 -> 161 -> 484 -> 242 -> 121 -> 364 -> 182 -> 91 -> 274 -> 137 -> 412 -> 206 -> 103 -> 310 -> 155 -> 466 -> 233 -> 700 -> 350 -> 175 -> 526 -> 263 -> 790 -> 395 -> 1186 -> 593 -> 1780 -> 890 -> 445 -> 1336 -> 668 -> 334 -> 167 -> 502 -> 251 -> 754 -> 377 -> 1132 -> 566 -> 283 -> 850 -> 425 -> 1276 -> 638 -> 319 -> 958 -> 479 -> 1438 -> 719 -> 2158 -> 1079 -> 3238 -> 1619 -> 4858 -> 2429 -> 7288 -> 3644 -> 1822 -> 911 -> 2734 -> 1367 -> 4102 -> 2051 -> 6154 -> 3077 -> 9232 -> 4616 -> 2308 -> 1154 -> 577 -> 1732 -> 866 -> 433 -> 1300 -> 650 -> 325 -> 976 -> 488 -> 244 -> 122 -> 61 -> 184 -> 92 -> 46 -> 23 -> 70 -> 35 -> 106 -> 53 -> 160 -> 80 -> 40 -> 20 -> 10 -> 5 -> 16 -> 8 -> 4 -> 2 -> 1\n"
     ]
    }
   ],
   "source": [
    "print(\" -> \".join(map(str, numbers)))"
   ]
  }
 ],
 "metadata": {
  "kernelspec": {
   "display_name": "Python 3",
   "language": "python",
   "name": "python3"
  },
  "language_info": {
   "codemirror_mode": {
    "name": "ipython",
    "version": 3
   },
   "file_extension": ".py",
   "mimetype": "text/x-python",
   "name": "python",
   "nbconvert_exporter": "python",
   "pygments_lexer": "ipython3",
   "version": "3.12.3"
  }
 },
 "nbformat": 4,
 "nbformat_minor": 2
}
