{
 "cells": [
  {
   "cell_type": "code",
   "execution_count": 44,
   "metadata": {},
   "outputs": [],
   "source": [
    "accuracy = 0.001\n",
    "x = 20\n",
    "guess = x"
   ]
  },
  {
   "cell_type": "code",
   "execution_count": 45,
   "metadata": {},
   "outputs": [
    {
     "name": "stdout",
     "output_type": "stream",
     "text": [
      "error=7980 guess=10.025\n",
      "error=987.5187656250001 guess=5.112001868769473\n",
      "error=113.58971143515495 guess=2.938665273865016\n",
      "error=5.377589193936952 guess=2.6273091694579467\n",
      "error=1.864332508722672 guess=2.762351838757036\n",
      "error=1.0783679116402212 guess=2.6916909698495592\n",
      "error=0.498159839190901 guess=2.7260695805251434\n",
      "error=0.2586643901050927 guess=2.7086662336940712\n",
      "error=0.12686047903309117 guess=2.7173116391063528\n",
      "error=0.06403824750361409 guess=2.7129752270355874\n",
      "error=0.031865912483016956 guess=2.7151399618769703\n",
      "error=0.015971106017520498 guess=2.7140567321911897\n",
      "error=0.007975996553643228 guess=2.7145981307794123\n",
      "error=0.003990385006819253 guess=2.714327377507887\n",
      "error=0.001994595523399312 guess=2.7144627406385275\n"
     ]
    }
   ],
   "source": [
    "while (error := abs(guess**3 - x)) > accuracy:\n",
    "    guess = (guess + x/(guess**2)) / 2\n",
    "    print(f\"{error=} {guess=}\")\n"
   ]
  },
  {
   "cell_type": "code",
   "execution_count": 46,
   "metadata": {},
   "outputs": [
    {
     "name": "stdout",
     "output_type": "stream",
     "text": [
      "The cube root of 20 is 2.7144627406385275\n"
     ]
    }
   ],
   "source": [
    "print(f\"The cube root of {x} is {guess}\")"
   ]
  }
 ],
 "metadata": {
  "kernelspec": {
   "display_name": "Python 3",
   "language": "python",
   "name": "python3"
  },
  "language_info": {
   "codemirror_mode": {
    "name": "ipython",
    "version": 3
   },
   "file_extension": ".py",
   "mimetype": "text/x-python",
   "name": "python",
   "nbconvert_exporter": "python",
   "pygments_lexer": "ipython3",
   "version": "3.12.3"
  }
 },
 "nbformat": 4,
 "nbformat_minor": 2
}
