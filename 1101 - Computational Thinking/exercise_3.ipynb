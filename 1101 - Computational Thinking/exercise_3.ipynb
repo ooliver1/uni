{
 "cells": [
  {
   "cell_type": "code",
   "execution_count": 3,
   "metadata": {},
   "outputs": [
    {
     "name": "stdout",
     "output_type": "stream",
     "text": [
      "The area of the rectangle is 25.5\n"
     ]
    }
   ],
   "source": [
    "def rectangle_area(length: float, width: float) -> float:\n",
    "    if length <= 0:\n",
    "        raise ValueError(\"Length must be positive\")\n",
    "    if width <= 0:\n",
    "        raise ValueError(\"Width must be positive\")\n",
    "\n",
    "    return length * width\n",
    "\n",
    "length = float(input(\"Enter the length of the rectangle: \"))\n",
    "width = float(input(\"Enter the width of the rectangle: \"))\n",
    "area = rectangle_area(length, width)\n",
    "print(f\"The area of the rectangle is {area}\")"
   ]
  },
  {
   "cell_type": "code",
   "execution_count": null,
   "metadata": {},
   "outputs": [],
   "source": [
    "def rectangle_calculations(length: float, width: float):\n",
    "    area = rectangle_area(length, width)\n",
    "    perimeter = 2 * (length + width)\n",
    "    diagnonal_length = (length ** 2 + width ** 2) ** 0.5\n",
    "    return area, perimeter, diagnonal_length\n",
    "\n",
    "length = float(input(\"Enter the length of the rectangle: \"))\n",
    "width = float(input(\"Enter the width of the rectangle: \"))\n",
    "area, perimeter, diagnonal_length = rectangle_calculations(length, width)\n",
    "print(\n",
    "    f\"The area of the rectangle is {area}, the perimeter is {perimeter}, \"\n",
    "    f\"and the diagnonal length is {diagnonal_length}\"\n",
    ")"
   ]
  }
 ],
 "metadata": {
  "kernelspec": {
   "display_name": "Python 3",
   "language": "python",
   "name": "python3"
  },
  "language_info": {
   "codemirror_mode": {
    "name": "ipython",
    "version": 3
   },
   "file_extension": ".py",
   "mimetype": "text/x-python",
   "name": "python",
   "nbconvert_exporter": "python",
   "pygments_lexer": "ipython3",
   "version": "3.12.3"
  }
 },
 "nbformat": 4,
 "nbformat_minor": 2
}
